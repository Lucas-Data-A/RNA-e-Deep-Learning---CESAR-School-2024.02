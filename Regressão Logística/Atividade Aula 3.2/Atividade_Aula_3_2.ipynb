{
  "nbformat": 4,
  "nbformat_minor": 0,
  "metadata": {
    "colab": {
      "provenance": []
    },
    "kernelspec": {
      "name": "python3",
      "display_name": "Python 3"
    },
    "language_info": {
      "name": "python"
    }
  },
  "cells": [
    {
      "cell_type": "markdown",
      "source": [
        "## Aluno: Lucas Barbosa dos Santos"
      ],
      "metadata": {
        "id": "2SB71LuMRbfr"
      }
    },
    {
      "cell_type": "markdown",
      "source": [
        "##Atividade\n",
        "\n",
        "Utilizando como base o código 3.2-LogisticRegressionMNIST.ipynb,\n",
        "faça as 2 atividades abaixo. Para submissão, submeta sua resposta no\n",
        "repositório criado para a disciplina.\n",
        "\n",
        "Coloque o resultado dentro de uma pasta chamada \"Atividade Aula 3.2\".\n",
        "\n",
        "\n",
        "1)\n",
        "Insira código no laço do treinamento para que no final de cada época,\n",
        "seja impresso: o número da época e a perda e a acurácia.\n",
        "\n",
        "2)\n",
        "Insira código no laço do treinamento para visualização dos valores dos\n",
        "gradientes referentes à classe do dígito 4, no final de cada época."
      ],
      "metadata": {
        "id": "PTAbypV0Rgfy"
      }
    },
    {
      "cell_type": "code",
      "execution_count": 70,
      "metadata": {
        "colab": {
          "base_uri": "https://localhost:8080/"
        },
        "id": "DZiS_IlvPbcG",
        "outputId": "556a76ad-029b-466f-c6af-686733cab911"
      },
      "outputs": [
        {
          "output_type": "stream",
          "name": "stdout",
          "text": [
            "Requirement already satisfied: Pillow in /usr/local/lib/python3.11/dist-packages (11.2.1)\n"
          ]
        }
      ],
      "source": [
        "! pip install Pillow"
      ]
    },
    {
      "cell_type": "code",
      "source": [
        "%matplotlib inline\n",
        "import numpy as np\n",
        "import matplotlib.pyplot as plt\n",
        "import pandas as pd\n",
        "\n",
        "import torch\n",
        "from torch.autograd import Variable\n",
        "\n",
        "import torchvision"
      ],
      "metadata": {
        "id": "ZFkKTDJ8R6KD"
      },
      "execution_count": 71,
      "outputs": []
    },
    {
      "cell_type": "code",
      "source": [
        "! git clone https://github.com/vcasadei/MNIST.git"
      ],
      "metadata": {
        "colab": {
          "base_uri": "https://localhost:8080/"
        },
        "id": "sqc3dmKzR6HK",
        "outputId": "c5bc2b49-d6f2-4437-b390-1d856fda667b"
      },
      "execution_count": 72,
      "outputs": [
        {
          "output_type": "stream",
          "name": "stdout",
          "text": [
            "fatal: destination path 'MNIST' already exists and is not an empty directory.\n"
          ]
        }
      ]
    },
    {
      "cell_type": "code",
      "source": [
        "!ls MNIST"
      ],
      "metadata": {
        "colab": {
          "base_uri": "https://localhost:8080/"
        },
        "id": "ULEGLv7-R6ES",
        "outputId": "aa7de41c-e66e-47dd-f63c-87917a71006c"
      },
      "execution_count": 73,
      "outputs": [
        {
          "output_type": "stream",
          "name": "stdout",
          "text": [
            "processed  raw\n"
          ]
        }
      ]
    },
    {
      "cell_type": "code",
      "source": [
        "dataset_dir = 'MNIST/'\n",
        "\n",
        "x_train, y_train = torch.load(dataset_dir + 'processed/training.pt')\n",
        "\n",
        "print(\"Amostras de treinamento:\", x_train.size(0))\n",
        "\n",
        "print(\"\\nDimensões dos dados das imagens:   \", x_train.size())\n",
        "print(\"Valores mínimo e máximo dos pixels:\", torch.min(x_train), torch.max(x_train))\n",
        "print(\"Tipo dos dados das imagens:        \", type(x_train))\n",
        "print(\"Tipo das classes das imagens:      \", type(y_train))"
      ],
      "metadata": {
        "colab": {
          "base_uri": "https://localhost:8080/"
        },
        "id": "2wX4VD0YSL36",
        "outputId": "401436d6-d6f3-451b-f09a-04cdd2ee986b"
      },
      "execution_count": 74,
      "outputs": [
        {
          "output_type": "stream",
          "name": "stdout",
          "text": [
            "Amostras de treinamento: 60000\n",
            "\n",
            "Dimensões dos dados das imagens:    torch.Size([60000, 28, 28])\n",
            "Valores mínimo e máximo dos pixels: tensor(0, dtype=torch.uint8) tensor(255, dtype=torch.uint8)\n",
            "Tipo dos dados das imagens:         <class 'torch.Tensor'>\n",
            "Tipo das classes das imagens:       <class 'torch.Tensor'>\n"
          ]
        }
      ]
    },
    {
      "cell_type": "code",
      "source": [
        "#Carregamento, normalização e seleção de dados\n",
        "x_train = x_train.float()\n",
        "\n",
        "x_train = x_train / 255.\n",
        "\n",
        "if True:\n",
        "    n_samples_train = 1000\n",
        "\n",
        "    x_train = x_train[:n_samples_train]\n",
        "    y_train = y_train[:n_samples_train]\n",
        "\n",
        "print(\"Amostras de treinamento:\", x_train.size(0))\n",
        "\n",
        "print(\"\\nDimensões dos dados das imagens:   \", x_train.size())\n",
        "print(\"Valores mínimo e máximo dos pixels:\", torch.min(x_train), torch.max(x_train))\n",
        "print(\"Tipo dos dados das imagens:        \", type(x_train))\n",
        "print(\"Tipo das classes das imagens:      \", type(y_train))"
      ],
      "metadata": {
        "colab": {
          "base_uri": "https://localhost:8080/"
        },
        "id": "ZfrbPtdcTi32",
        "outputId": "4e0f14e6-9514-4c06-f4a9-205d28b047ad"
      },
      "execution_count": 75,
      "outputs": [
        {
          "output_type": "stream",
          "name": "stdout",
          "text": [
            "Amostras de treinamento: 1000\n",
            "\n",
            "Dimensões dos dados das imagens:    torch.Size([1000, 28, 28])\n",
            "Valores mínimo e máximo dos pixels: tensor(0.) tensor(1.)\n",
            "Tipo dos dados das imagens:         <class 'torch.Tensor'>\n",
            "Tipo das classes das imagens:       <class 'torch.Tensor'>\n"
          ]
        }
      ]
    },
    {
      "cell_type": "code",
      "source": [
        "#Visualização dos dados\n",
        "n_samples = 24\n",
        "\n",
        "# cria um grid com as imagens\n",
        "grid = torchvision.utils.make_grid(x_train[:n_samples].unsqueeze(dim=1), pad_value=1.0, padding=1)\n",
        "\n",
        "plt.figure(figsize=(15, 10))\n",
        "plt.imshow(grid.numpy().transpose(1, 2, 0))\n",
        "plt.axis('off')"
      ],
      "metadata": {
        "colab": {
          "base_uri": "https://localhost:8080/",
          "height": 493
        },
        "id": "tQ4lzJfUTi02",
        "outputId": "09154d24-b8ce-4b4b-c14e-71cbca837806"
      },
      "execution_count": 76,
      "outputs": [
        {
          "output_type": "execute_result",
          "data": {
            "text/plain": [
              "(np.float64(-0.5), np.float64(232.5), np.float64(87.5), np.float64(-0.5))"
            ]
          },
          "metadata": {},
          "execution_count": 76
        },
        {
          "output_type": "display_data",
          "data": {
            "text/plain": [
              "<Figure size 1500x1000 with 1 Axes>"
            ],
            "image/png": "[encoded data removed]"
          },
          "metadata": {}
        }
      ]
    },
    {
      "cell_type": "code",
      "source": [
        "image  = x_train[0]\n",
        "target = y_train[0]\n",
        "\n",
        "plt.imshow(image.numpy(), cmap='gray')\n",
        "print('class:', target)"
      ],
      "metadata": {
        "colab": {
          "base_uri": "https://localhost:8080/",
          "height": 447
        },
        "id": "Iy5ujDNMTixo",
        "outputId": "5d8041dd-dbaa-4468-c31c-99a3d2c64e33"
      },
      "execution_count": 77,
      "outputs": [
        {
          "output_type": "stream",
          "name": "stdout",
          "text": [
            "class: tensor(5)\n"
          ]
        },
        {
          "output_type": "display_data",
          "data": {
            "text/plain": [
              "<Figure size 640x480 with 1 Axes>"
            ],
            "image/png": "[encoded data removed]"
          },
          "metadata": {}
        }
      ]
    },
    {
      "cell_type": "code",
      "source": [
        "#Modelo\n",
        "model = torch.nn.Linear(28*28, 10) # 28*28 atributos de entrada e 10 neurônios na sáida"
      ],
      "metadata": {
        "id": "gvAdSSxqSL1Z"
      },
      "execution_count": 78,
      "outputs": []
    },
    {
      "cell_type": "code",
      "source": [
        "xin = x_train[:5].view(-1,28*28)\n",
        "score = model(Variable(xin))\n",
        "score"
      ],
      "metadata": {
        "colab": {
          "base_uri": "https://localhost:8080/"
        },
        "id": "UjpBUJfhSLya",
        "outputId": "65313bbb-3863-4834-f416-fc666a4f01ad"
      },
      "execution_count": 79,
      "outputs": [
        {
          "output_type": "execute_result",
          "data": {
            "text/plain": [
              "tensor([[ 0.0069,  0.4304,  0.0135,  0.4560,  0.1355, -0.0456,  0.1527, -0.2887,\n",
              "          0.0746,  0.1290],\n",
              "        [ 0.1374,  0.0694, -0.0645,  0.0951,  0.0448,  0.1780,  0.3110, -0.2704,\n",
              "          0.4084,  0.0616],\n",
              "        [ 0.1356,  0.4325,  0.0717,  0.0656, -0.0748, -0.0075, -0.0403, -0.2490,\n",
              "          0.0589,  0.1125],\n",
              "        [ 0.1569,  0.3716,  0.0839,  0.1157,  0.0755, -0.0062, -0.1134, -0.0390,\n",
              "          0.0023,  0.2405],\n",
              "        [ 0.0033,  0.2548, -0.1794,  0.0559,  0.1402,  0.0806,  0.1937,  0.1428,\n",
              "          0.2679, -0.0653]], grad_fn=<AddmmBackward0>)"
            ]
          },
          "metadata": {},
          "execution_count": 79
        }
      ]
    },
    {
      "cell_type": "code",
      "source": [
        "#Treinamento\n",
        "epochs = 100\n",
        "learningRate = 0.5\n",
        "\n",
        "# Utilizaremos CrossEntropyLoss como função de perda\n",
        "criterion = torch.nn.CrossEntropyLoss()\n",
        "\n",
        "# Gradiente descendente\n",
        "optimizer = torch.optim.SGD(model.parameters(), lr=learningRate)"
      ],
      "metadata": {
        "id": "ldcuepqJWCdq"
      },
      "execution_count": 80,
      "outputs": []
    },
    {
      "cell_type": "code",
      "source": [
        "# Visualização do grafo computacional da perda (loss)\n",
        "!pip install graphviz\n",
        "!pip install git+https://github.com/szagoruyko/pytorchviz"
      ],
      "metadata": {
        "colab": {
          "base_uri": "https://localhost:8080/"
        },
        "id": "LykmxDLvWCaM",
        "outputId": "4dfa9202-817a-4640-bba4-61232c0c083a"
      },
      "execution_count": 81,
      "outputs": [
        {
          "output_type": "stream",
          "name": "stdout",
          "text": [
            "Requirement already satisfied: graphviz in /usr/local/lib/python3.11/dist-packages (0.20.3)\n",
            "Collecting git+https://github.com/szagoruyko/pytorchviz\n",
            "  Cloning https://github.com/szagoruyko/pytorchviz to /tmp/pip-req-build-4ohgnj3h\n",
            "  Running command git clone --filter=blob:none --quiet https://github.com/szagoruyko/pytorchviz /tmp/pip-req-build-4ohgnj3h\n",
            "  Resolved https://github.com/szagoruyko/pytorchviz to commit 5cf04c13e601366f6b9cf5939b5af5144d55b887\n",
            "  Preparing metadata (setup.py) ... \u001b[?25l\u001b[?25hdone\n",
            "Requirement already satisfied: torch in /usr/local/lib/python3.11/dist-packages (from torchviz==0.0.2) (2.6.0+cu124)\n",
            "Requirement already satisfied: graphviz in /usr/local/lib/python3.11/dist-packages (from torchviz==0.0.2) (0.20.3)\n",
            "Requirement already satisfied: filelock in /usr/local/lib/python3.11/dist-packages (from torch->torchviz==0.0.2) (3.18.0)\n",
            "Requirement already satisfied: typing-extensions>=4.10.0 in /usr/local/lib/python3.11/dist-packages (from torch->torchviz==0.0.2) (4.13.2)\n",
            "Requirement already satisfied: networkx in /usr/local/lib/python3.11/dist-packages (from torch->torchviz==0.0.2) (3.4.2)\n",
            "Requirement already satisfied: jinja2 in /usr/local/lib/python3.11/dist-packages (from torch->torchviz==0.0.2) (3.1.6)\n",
            "Requirement already satisfied: fsspec in /usr/local/lib/python3.11/dist-packages (from torch->torchviz==0.0.2) (2025.3.2)\n",
            "Requirement already satisfied: nvidia-cuda-nvrtc-cu12==12.4.127 in /usr/local/lib/python3.11/dist-packages (from torch->torchviz==0.0.2) (12.4.127)\n",
            "Requirement already satisfied: nvidia-cuda-runtime-cu12==12.4.127 in /usr/local/lib/python3.11/dist-packages (from torch->torchviz==0.0.2) (12.4.127)\n",
            "Requirement already satisfied: nvidia-cuda-cupti-cu12==12.4.127 in /usr/local/lib/python3.11/dist-packages (from torch->torchviz==0.0.2) (12.4.127)\n",
            "Requirement already satisfied: nvidia-cudnn-cu12==9.1.0.70 in /usr/local/lib/python3.11/dist-packages (from torch->torchviz==0.0.2) (9.1.0.70)\n",
            "Requirement already satisfied: nvidia-cublas-cu12==12.4.5.8 in /usr/local/lib/python3.11/dist-packages (from torch->torchviz==0.0.2) (12.4.5.8)\n",
            "Requirement already satisfied: nvidia-cufft-cu12==11.2.1.3 in /usr/local/lib/python3.11/dist-packages (from torch->torchviz==0.0.2) (11.2.1.3)\n",
            "Requirement already satisfied: nvidia-curand-cu12==10.3.5.147 in /usr/local/lib/python3.11/dist-packages (from torch->torchviz==0.0.2) (10.3.5.147)\n",
            "Requirement already satisfied: nvidia-cusolver-cu12==11.6.1.9 in /usr/local/lib/python3.11/dist-packages (from torch->torchviz==0.0.2) (11.6.1.9)\n",
            "Requirement already satisfied: nvidia-cusparse-cu12==12.3.1.170 in /usr/local/lib/python3.11/dist-packages (from torch->torchviz==0.0.2) (12.3.1.170)\n",
            "Requirement already satisfied: nvidia-cusparselt-cu12==0.6.2 in /usr/local/lib/python3.11/dist-packages (from torch->torchviz==0.0.2) (0.6.2)\n",
            "Requirement already satisfied: nvidia-nccl-cu12==2.21.5 in /usr/local/lib/python3.11/dist-packages (from torch->torchviz==0.0.2) (2.21.5)\n",
            "Requirement already satisfied: nvidia-nvtx-cu12==12.4.127 in /usr/local/lib/python3.11/dist-packages (from torch->torchviz==0.0.2) (12.4.127)\n",
            "Requirement already satisfied: nvidia-nvjitlink-cu12==12.4.127 in /usr/local/lib/python3.11/dist-packages (from torch->torchviz==0.0.2) (12.4.127)\n",
            "Requirement already satisfied: triton==3.2.0 in /usr/local/lib/python3.11/dist-packages (from torch->torchviz==0.0.2) (3.2.0)\n",
            "Requirement already satisfied: sympy==1.13.1 in /usr/local/lib/python3.11/dist-packages (from torch->torchviz==0.0.2) (1.13.1)\n",
            "Requirement already satisfied: mpmath<1.4,>=1.1.0 in /usr/local/lib/python3.11/dist-packages (from sympy==1.13.1->torch->torchviz==0.0.2) (1.3.0)\n",
            "Requirement already satisfied: MarkupSafe>=2.0 in /usr/local/lib/python3.11/dist-packages (from jinja2->torch->torchviz==0.0.2) (3.0.2)\n"
          ]
        }
      ]
    },
    {
      "cell_type": "code",
      "source": [
        "from torchviz import make_dot, make_dot_from_trace\n",
        "y_pred = model(Variable(x_train.view(-1,28*28)))\n",
        "loss = criterion(y_pred, Variable(y_train))\n",
        "loss"
      ],
      "metadata": {
        "colab": {
          "base_uri": "https://localhost:8080/"
        },
        "id": "NWdrV7MoWCXD",
        "outputId": "6a36b168-4def-4190-c98e-4001b9264edb"
      },
      "execution_count": 82,
      "outputs": [
        {
          "output_type": "execute_result",
          "data": {
            "text/plain": [
              "tensor(2.3084, grad_fn=<NllLossBackward0>)"
            ]
          },
          "metadata": {},
          "execution_count": 82
        }
      ]
    },
    {
      "cell_type": "code",
      "source": [
        "p = make_dot(loss, dict(model.named_parameters()))\n",
        "p"
      ],
      "metadata": {
        "colab": {
          "base_uri": "https://localhost:8080/",
          "height": 543
        },
        "id": "FFfQ7_iqR6Ba",
        "outputId": "47dbfc54-b061-4c49-daa7-2381c5570057"
      },
      "execution_count": 83,
      "outputs": [
        {
          "output_type": "execute_result",
          "data": {
            "image/svg+xml": "<?xml version=\"1.0\" encoding=\"UTF-8\" standalone=\"no\"?>\n<!DOCTYPE svg PUBLIC \"-//W3C//DTD SVG 1.1//EN\"\n \"http://www.w3.org/Graphics/SVG/1.1/DTD/svg11.dtd\">\n<!-- Generated by graphviz version 2.43.0 (0)\n -->\n<!-- Title: %3 Pages: 1 -->\n<svg width=\"216pt\" height=\"391pt\"\n viewBox=\"0.00 0.00 216.00 391.00\" xmlns=\"http://www.w3.org/2000/svg\" xmlns:xlink=\"http://www.w3.org/1999/xlink\">\n<g id=\"graph0\" class=\"graph\" transform=\"scale(1 1) rotate(0) translate(4 387)\">\n<title>%3</title>\n<polygon fill=\"white\" stroke=\"transparent\" points=\"-4,4 -4,-387 212,-387 212,4 -4,4\"/>\n<!-- 132308689539568 -->\n<g id=\"node1\" class=\"node\">\n<title>132308689539568</title>\n<polygon fill=\"#caff70\" stroke=\"black\" points=\"130.5,-31 76.5,-31 76.5,0 130.5,0 130.5,-31\"/>\n<text text-anchor=\"middle\" x=\"103.5\" y=\"-7\" font-family=\"monospace\" font-size=\"10.00\"> ()</text>\n</g>\n<!-- 132308742787840 -->\n<g id=\"node2\" class=\"node\">\n<title>132308742787840</title>\n<polygon fill=\"lightgrey\" stroke=\"black\" points=\"160,-86 47,-86 47,-67 160,-67 160,-86\"/>\n<text text-anchor=\"middle\" x=\"103.5\" y=\"-74\" font-family=\"monospace\" font-size=\"10.00\">NllLossBackward0</text>\n</g>\n<!-- 132308742787840&#45;&gt;132308689539568 -->\n<g id=\"edge8\" class=\"edge\">\n<title>132308742787840&#45;&gt;132308689539568</title>\n<path fill=\"none\" stroke=\"black\" d=\"M103.5,-66.79C103.5,-60.07 103.5,-50.4 103.5,-41.34\"/>\n<polygon fill=\"black\" stroke=\"black\" points=\"107,-41.19 103.5,-31.19 100,-41.19 107,-41.19\"/>\n</g>\n<!-- 132308742794512 -->\n<g id=\"node3\" class=\"node\">\n<title>132308742794512</title>\n<polygon fill=\"lightgrey\" stroke=\"black\" points=\"169,-141 38,-141 38,-122 169,-122 169,-141\"/>\n<text text-anchor=\"middle\" x=\"103.5\" y=\"-129\" font-family=\"monospace\" font-size=\"10.00\">LogSoftmaxBackward0</text>\n</g>\n<!-- 132308742794512&#45;&gt;132308742787840 -->\n<g id=\"edge1\" class=\"edge\">\n<title>132308742794512&#45;&gt;132308742787840</title>\n<path fill=\"none\" stroke=\"black\" d=\"M103.5,-121.75C103.5,-114.8 103.5,-104.85 103.5,-96.13\"/>\n<polygon fill=\"black\" stroke=\"black\" points=\"107,-96.09 103.5,-86.09 100,-96.09 107,-96.09\"/>\n</g>\n<!-- 132308742788848 -->\n<g id=\"node4\" class=\"node\">\n<title>132308742788848</title>\n<polygon fill=\"lightgrey\" stroke=\"black\" points=\"154,-196 53,-196 53,-177 154,-177 154,-196\"/>\n<text text-anchor=\"middle\" x=\"103.5\" y=\"-184\" font-family=\"monospace\" font-size=\"10.00\">AddmmBackward0</text>\n</g>\n<!-- 132308742788848&#45;&gt;132308742794512 -->\n<g id=\"edge2\" class=\"edge\">\n<title>132308742788848&#45;&gt;132308742794512</title>\n<path fill=\"none\" stroke=\"black\" d=\"M103.5,-176.75C103.5,-169.8 103.5,-159.85 103.5,-151.13\"/>\n<polygon fill=\"black\" stroke=\"black\" points=\"107,-151.09 103.5,-141.09 100,-151.09 107,-151.09\"/>\n</g>\n<!-- 132308742788368 -->\n<g id=\"node5\" class=\"node\">\n<title>132308742788368</title>\n<polygon fill=\"lightgrey\" stroke=\"black\" points=\"101,-251 0,-251 0,-232 101,-232 101,-251\"/>\n<text text-anchor=\"middle\" x=\"50.5\" y=\"-239\" font-family=\"monospace\" font-size=\"10.00\">AccumulateGrad</text>\n</g>\n<!-- 132308742788368&#45;&gt;132308742788848 -->\n<g id=\"edge3\" class=\"edge\">\n<title>132308742788368&#45;&gt;132308742788848</title>\n<path fill=\"none\" stroke=\"black\" d=\"M59.25,-231.75C66.97,-224.03 78.4,-212.6 87.72,-203.28\"/>\n<polygon fill=\"black\" stroke=\"black\" points=\"90.31,-205.64 94.91,-196.09 85.36,-200.69 90.31,-205.64\"/>\n</g>\n<!-- 132308690207184 -->\n<g id=\"node6\" class=\"node\">\n<title>132308690207184</title>\n<polygon fill=\"lightblue\" stroke=\"black\" points=\"77.5,-317 23.5,-317 23.5,-287 77.5,-287 77.5,-317\"/>\n<text text-anchor=\"middle\" x=\"50.5\" y=\"-305\" font-family=\"monospace\" font-size=\"10.00\">bias</text>\n<text text-anchor=\"middle\" x=\"50.5\" y=\"-294\" font-family=\"monospace\" font-size=\"10.00\"> (10)</text>\n</g>\n<!-- 132308690207184&#45;&gt;132308742788368 -->\n<g id=\"edge4\" class=\"edge\">\n<title>132308690207184&#45;&gt;132308742788368</title>\n<path fill=\"none\" stroke=\"black\" d=\"M50.5,-286.84C50.5,-279.21 50.5,-269.7 50.5,-261.45\"/>\n<polygon fill=\"black\" stroke=\"black\" points=\"54,-261.27 50.5,-251.27 47,-261.27 54,-261.27\"/>\n</g>\n<!-- 132308742783760 -->\n<g id=\"node7\" class=\"node\">\n<title>132308742783760</title>\n<polygon fill=\"lightgrey\" stroke=\"black\" points=\"196,-251 119,-251 119,-232 196,-232 196,-251\"/>\n<text text-anchor=\"middle\" x=\"157.5\" y=\"-239\" font-family=\"monospace\" font-size=\"10.00\">TBackward0</text>\n</g>\n<!-- 132308742783760&#45;&gt;132308742788848 -->\n<g id=\"edge5\" class=\"edge\">\n<title>132308742783760&#45;&gt;132308742788848</title>\n<path fill=\"none\" stroke=\"black\" d=\"M148.58,-231.75C140.72,-224.03 129.07,-212.6 119.58,-203.28\"/>\n<polygon fill=\"black\" stroke=\"black\" points=\"121.84,-200.6 112.25,-196.09 116.94,-205.59 121.84,-200.6\"/>\n</g>\n<!-- 132308742786256 -->\n<g id=\"node8\" class=\"node\">\n<title>132308742786256</title>\n<polygon fill=\"lightgrey\" stroke=\"black\" points=\"208,-311.5 107,-311.5 107,-292.5 208,-292.5 208,-311.5\"/>\n<text text-anchor=\"middle\" x=\"157.5\" y=\"-299.5\" font-family=\"monospace\" font-size=\"10.00\">AccumulateGrad</text>\n</g>\n<!-- 132308742786256&#45;&gt;132308742783760 -->\n<g id=\"edge6\" class=\"edge\">\n<title>132308742786256&#45;&gt;132308742783760</title>\n<path fill=\"none\" stroke=\"black\" d=\"M157.5,-292.37C157.5,-284.25 157.5,-271.81 157.5,-261.39\"/>\n<polygon fill=\"black\" stroke=\"black\" points=\"161,-261.17 157.5,-251.17 154,-261.17 161,-261.17\"/>\n</g>\n<!-- 132308690217456 -->\n<g id=\"node9\" class=\"node\">\n<title>132308690217456</title>\n<polygon fill=\"lightblue\" stroke=\"black\" points=\"196,-383 119,-383 119,-353 196,-353 196,-383\"/>\n<text text-anchor=\"middle\" x=\"157.5\" y=\"-371\" font-family=\"monospace\" font-size=\"10.00\">weight</text>\n<text text-anchor=\"middle\" x=\"157.5\" y=\"-360\" font-family=\"monospace\" font-size=\"10.00\"> (10, 784)</text>\n</g>\n<!-- 132308690217456&#45;&gt;132308742786256 -->\n<g id=\"edge7\" class=\"edge\">\n<title>132308690217456&#45;&gt;132308742786256</title>\n<path fill=\"none\" stroke=\"black\" d=\"M157.5,-352.8C157.5,-343.7 157.5,-331.79 157.5,-321.9\"/>\n<polygon fill=\"black\" stroke=\"black\" points=\"161,-321.84 157.5,-311.84 154,-321.84 161,-321.84\"/>\n</g>\n</g>\n</svg>\n",
            "text/plain": [
              "<graphviz.graphs.Digraph at 0x785584791850>"
            ]
          },
          "metadata": {},
          "execution_count": 83
        }
      ]
    },
    {
      "cell_type": "code",
      "source": [
        "import numpy\n",
        "losses = []\n",
        "zs = []\n",
        "\n",
        "for i in range(epochs):\n",
        "    # Transforma a entrada para uma dimensão\n",
        "    inputs = Variable(x_train.view(-1, 28 * 28))\n",
        "    # Predict da rede\n",
        "    outputs = model(inputs)\n",
        "\n",
        "    # z0 a z9\n",
        "    zs.append(outputs[1].detach().numpy())\n",
        "\n",
        "    # calcula a perda\n",
        "    loss = criterion(outputs, Variable(y_train))\n",
        "\n",
        "    # zero, backpropagation, ajusta parâmetros pelo gradiente descendente\n",
        "    optimizer.zero_grad()\n",
        "    loss.backward()\n",
        "    optimizer.step()\n",
        "\n",
        "    losses.append(loss.item())\n",
        "\n",
        "    _, predicts = torch.max(outputs, 1)\n",
        "\n",
        "    y_pred = predicts.data\n",
        "    accuracy = (y_pred.numpy() == y_train.numpy()).mean()"
      ],
      "metadata": {
        "id": "kT93FvQ8W-iA"
      },
      "execution_count": 84,
      "outputs": []
    },
    {
      "cell_type": "code",
      "source": [
        "print('Final loss:', loss.item())"
      ],
      "metadata": {
        "colab": {
          "base_uri": "https://localhost:8080/"
        },
        "id": "ah0PqwrwW-fR",
        "outputId": "01700f6a-dccd-493e-f3ba-c4177663fa25"
      },
      "execution_count": 85,
      "outputs": [
        {
          "output_type": "stream",
          "name": "stdout",
          "text": [
            "Final loss: 0.2652530372142792\n"
          ]
        }
      ]
    },
    {
      "cell_type": "code",
      "source": [
        "plt.plot(losses)"
      ],
      "metadata": {
        "colab": {
          "base_uri": "https://localhost:8080/",
          "height": 447
        },
        "id": "j3ptmaxIW-cI",
        "outputId": "77f0635c-39e9-4e37-cf31-48b934c21105"
      },
      "execution_count": 86,
      "outputs": [
        {
          "output_type": "execute_result",
          "data": {
            "text/plain": [
              "[<matplotlib.lines.Line2D at 0x785584830550>]"
            ]
          },
          "metadata": {},
          "execution_count": 86
        },
        {
          "output_type": "display_data",
          "data": {
            "text/plain": [
              "<Figure size 640x480 with 1 Axes>"
            ],
            "image/png": "[encoded data removed]"
          },
          "metadata": {}
        }
      ]
    },
    {
      "cell_type": "code",
      "source": [
        "#Avaliação\n",
        "def predict(model, input_data):\n",
        "    outputs = model(Variable(input_data))\n",
        "    _, predicts = torch.max(outputs, 1)\n",
        "\n",
        "    return predicts.data\n",
        "\n",
        "y_pred = predict(model, x_train.view(-1, 28*28))\n",
        "accuracy = (y_pred.numpy() == y_train.numpy()).mean()\n",
        "print('Accuracy:', accuracy)"
      ],
      "metadata": {
        "colab": {
          "base_uri": "https://localhost:8080/"
        },
        "id": "qDOK1mjkW-ZR",
        "outputId": "d9577cdd-285c-45fd-92ad-65b7f1efd2cd"
      },
      "execution_count": 87,
      "outputs": [
        {
          "output_type": "stream",
          "name": "stdout",
          "text": [
            "Accuracy: 0.945\n"
          ]
        }
      ]
    },
    {
      "cell_type": "code",
      "source": [
        "print('Matriz de confusão:')\n",
        "pd.crosstab(y_pred.numpy(), y_train.numpy())"
      ],
      "metadata": {
        "colab": {
          "base_uri": "https://localhost:8080/",
          "height": 412
        },
        "id": "XvihG36zR5yh",
        "outputId": "aad450ac-6a0e-43af-82f8-d17837e7e677"
      },
      "execution_count": 88,
      "outputs": [
        {
          "output_type": "stream",
          "name": "stdout",
          "text": [
            "Matriz de confusão:\n"
          ]
        },
        {
          "output_type": "execute_result",
          "data": {
            "text/plain": [
              "col_0   0    1   2   3    4   5   6    7   8   9\n",
              "row_0                                           \n",
              "0      96    0   1   0    0   0   1    0   0   2\n",
              "1       0  110   1   0    0   0   2    2   1   0\n",
              "2       0    1  91   1    0   1   1    1   1   1\n",
              "3       0    0   0  88    0   2   0    0   0   0\n",
              "4       0    0   1   0  102   2   0    1   0   3\n",
              "5       0    2   0   1    0  83   0    0   1   1\n",
              "6       1    0   1   1    2   2  90    0   1   0\n",
              "7       0    1   1   1    0   0   0  112   0   3\n",
              "8       0    2   2   0    0   0   0    0  83   0\n",
              "9       0    0   1   1    1   2   0    1   0  90"
            ],
            "text/html": [
              "\n",
              "  <div id=\"df-6d2685be-2f0c-4ece-b97f-ea376b52bf30\" class=\"colab-df-container\">\n",
              "    <div>\n",
              "<style scoped>\n",
              "    .dataframe tbody tr th:only-of-type {\n",
              "        vertical-align: middle;\n",
              "    }\n",
              "\n",
              "    .dataframe tbody tr th {\n",
              "        vertical-align: top;\n",
              "    }\n",
              "\n",
              "    .dataframe thead th {\n",
              "        text-align: right;\n",
              "    }\n",
              "</style>\n",
              "<table border=\"1\" class=\"dataframe\">\n",
              "  <thead>\n",
              "    <tr style=\"text-align: right;\">\n",
              "      <th>col_0</th>\n",
              "      <th>0</th>\n",
              "      <th>1</th>\n",
              "      <th>2</th>\n",
              "      <th>3</th>\n",
              "      <th>4</th>\n",
              "      <th>5</th>\n",
              "      <th>6</th>\n",
              "      <th>7</th>\n",
              "      <th>8</th>\n",
              "      <th>9</th>\n",
              "    </tr>\n",
              "    <tr>\n",
              "      <th>row_0</th>\n",
              "      <th></th>\n",
              "      <th></th>\n",
              "      <th></th>\n",
              "      <th></th>\n",
              "      <th></th>\n",
              "      <th></th>\n",
              "      <th></th>\n",
              "      <th></th>\n",
              "      <th></th>\n",
              "      <th></th>\n",
              "    </tr>\n",
              "  </thead>\n",
              "  <tbody>\n",
              "    <tr>\n",
              "      <th>0</th>\n",
              "      <td>96</td>\n",
              "      <td>0</td>\n",
              "      <td>1</td>\n",
              "      <td>0</td>\n",
              "      <td>0</td>\n",
              "      <td>0</td>\n",
              "      <td>1</td>\n",
              "      <td>0</td>\n",
              "      <td>0</td>\n",
              "      <td>2</td>\n",
              "    </tr>\n",
              "    <tr>\n",
              "      <th>1</th>\n",
              "      <td>0</td>\n",
              "      <td>110</td>\n",
              "      <td>1</td>\n",
              "      <td>0</td>\n",
              "      <td>0</td>\n",
              "      <td>0</td>\n",
              "      <td>2</td>\n",
              "      <td>2</td>\n",
              "      <td>1</td>\n",
              "      <td>0</td>\n",
              "    </tr>\n",
              "    <tr>\n",
              "      <th>2</th>\n",
              "      <td>0</td>\n",
              "      <td>1</td>\n",
              "      <td>91</td>\n",
              "      <td>1</td>\n",
              "      <td>0</td>\n",
              "      <td>1</td>\n",
              "      <td>1</td>\n",
              "      <td>1</td>\n",
              "      <td>1</td>\n",
              "      <td>1</td>\n",
              "    </tr>\n",
              "    <tr>\n",
              "      <th>3</th>\n",
              "      <td>0</td>\n",
              "      <td>0</td>\n",
              "      <td>0</td>\n",
              "      <td>88</td>\n",
              "      <td>0</td>\n",
              "      <td>2</td>\n",
              "      <td>0</td>\n",
              "      <td>0</td>\n",
              "      <td>0</td>\n",
              "      <td>0</td>\n",
              "    </tr>\n",
              "    <tr>\n",
              "      <th>4</th>\n",
              "      <td>0</td>\n",
              "      <td>0</td>\n",
              "      <td>1</td>\n",
              "      <td>0</td>\n",
              "      <td>102</td>\n",
              "      <td>2</td>\n",
              "      <td>0</td>\n",
              "      <td>1</td>\n",
              "      <td>0</td>\n",
              "      <td>3</td>\n",
              "    </tr>\n",
              "    <tr>\n",
              "      <th>5</th>\n",
              "      <td>0</td>\n",
              "      <td>2</td>\n",
              "      <td>0</td>\n",
              "      <td>1</td>\n",
              "      <td>0</td>\n",
              "      <td>83</td>\n",
              "      <td>0</td>\n",
              "      <td>0</td>\n",
              "      <td>1</td>\n",
              "      <td>1</td>\n",
              "    </tr>\n",
              "    <tr>\n",
              "      <th>6</th>\n",
              "      <td>1</td>\n",
              "      <td>0</td>\n",
              "      <td>1</td>\n",
              "      <td>1</td>\n",
              "      <td>2</td>\n",
              "      <td>2</td>\n",
              "      <td>90</td>\n",
              "      <td>0</td>\n",
              "      <td>1</td>\n",
              "      <td>0</td>\n",
              "    </tr>\n",
              "    <tr>\n",
              "      <th>7</th>\n",
              "      <td>0</td>\n",
              "      <td>1</td>\n",
              "      <td>1</td>\n",
              "      <td>1</td>\n",
              "      <td>0</td>\n",
              "      <td>0</td>\n",
              "      <td>0</td>\n",
              "      <td>112</td>\n",
              "      <td>0</td>\n",
              "      <td>3</td>\n",
              "    </tr>\n",
              "    <tr>\n",
              "      <th>8</th>\n",
              "      <td>0</td>\n",
              "      <td>2</td>\n",
              "      <td>2</td>\n",
              "      <td>0</td>\n",
              "      <td>0</td>\n",
              "      <td>0</td>\n",
              "      <td>0</td>\n",
              "      <td>0</td>\n",
              "      <td>83</td>\n",
              "      <td>0</td>\n",
              "    </tr>\n",
              "    <tr>\n",
              "      <th>9</th>\n",
              "      <td>0</td>\n",
              "      <td>0</td>\n",
              "      <td>1</td>\n",
              "      <td>1</td>\n",
              "      <td>1</td>\n",
              "      <td>2</td>\n",
              "      <td>0</td>\n",
              "      <td>1</td>\n",
              "      <td>0</td>\n",
              "      <td>90</td>\n",
              "    </tr>\n",
              "  </tbody>\n",
              "</table>\n",
              "</div>\n",
              "    <div class=\"colab-df-buttons\">\n",
              "\n",
              "  <div class=\"colab-df-container\">\n",
              "    <button class=\"colab-df-convert\" onclick=\"convertToInteractive('df-6d2685be-2f0c-4ece-b97f-ea376b52bf30')\"\n",
              "            title=\"Convert this dataframe to an interactive table.\"\n",
              "            style=\"display:none;\">\n",
              "\n",
              "  <svg xmlns=\"http://www.w3.org/2000/svg\" height=\"24px\" viewBox=\"0 -960 960 960\">\n",
              "    <path d=\"M120-120v-720h720v720H120Zm60-500h600v-160H180v160Zm220 220h160v-160H400v160Zm0 220h160v-160H400v160ZM180-400h160v-160H180v160Zm440 0h160v-160H620v160ZM180-180h160v-160H180v160Zm440 0h160v-160H620v160Z\"/>\n",
              "  </svg>\n",
              "    </button>\n",
              "\n",
              "  <style>\n",
              "    .colab-df-container {\n",
              "      display:flex;\n",
              "      gap: 12px;\n",
              "    }\n",
              "\n",
              "    .colab-df-convert {\n",
              "      background-color: #E8F0FE;\n",
              "      border: none;\n",
              "      border-radius: 50%;\n",
              "      cursor: pointer;\n",
              "      display: none;\n",
              "      fill: #1967D2;\n",
              "      height: 32px;\n",
              "      padding: 0 0 0 0;\n",
              "      width: 32px;\n",
              "    }\n",
              "\n",
              "    .colab-df-convert:hover {\n",
              "      background-color: #E2EBFA;\n",
              "      box-shadow: 0px 1px 2px rgba(60, 64, 67, 0.3), 0px 1px 3px 1px rgba(60, 64, 67, 0.15);\n",
              "      fill: #174EA6;\n",
              "    }\n",
              "\n",
              "    .colab-df-buttons div {\n",
              "      margin-bottom: 4px;\n",
              "    }\n",
              "\n",
              "    [theme=dark] .colab-df-convert {\n",
              "      background-color: #3B4455;\n",
              "      fill: #D2E3FC;\n",
              "    }\n",
              "\n",
              "    [theme=dark] .colab-df-convert:hover {\n",
              "      background-color: #434B5C;\n",
              "      box-shadow: 0px 1px 3px 1px rgba(0, 0, 0, 0.15);\n",
              "      filter: drop-shadow(0px 1px 2px rgba(0, 0, 0, 0.3));\n",
              "      fill: #FFFFFF;\n",
              "    }\n",
              "  </style>\n",
              "\n",
              "    <script>\n",
              "      const buttonEl =\n",
              "        document.querySelector('#df-6d2685be-2f0c-4ece-b97f-ea376b52bf30 button.colab-df-convert');\n",
              "      buttonEl.style.display =\n",
              "        google.colab.kernel.accessAllowed ? 'block' : 'none';\n",
              "\n",
              "      async function convertToInteractive(key) {\n",
              "        const element = document.querySelector('#df-6d2685be-2f0c-4ece-b97f-ea376b52bf30');\n",
              "        const dataTable =\n",
              "          await google.colab.kernel.invokeFunction('convertToInteractive',\n",
              "                                                    [key], {});\n",
              "        if (!dataTable) return;\n",
              "\n",
              "        const docLinkHtml = 'Like what you see? Visit the ' +\n",
              "          '<a target=\"_blank\" href=https://colab.research.google.com/notebooks/data_table.ipynb>data table notebook</a>'\n",
              "          + ' to learn more about interactive tables.';\n",
              "        element.innerHTML = '';\n",
              "        dataTable['output_type'] = 'display_data';\n",
              "        await google.colab.output.renderOutput(dataTable, element);\n",
              "        const docLink = document.createElement('div');\n",
              "        docLink.innerHTML = docLinkHtml;\n",
              "        element.appendChild(docLink);\n",
              "      }\n",
              "    </script>\n",
              "  </div>\n",
              "\n",
              "\n",
              "    <div id=\"df-62fcf07e-59b6-4d9a-b77f-240de93ceb51\">\n",
              "      <button class=\"colab-df-quickchart\" onclick=\"quickchart('df-62fcf07e-59b6-4d9a-b77f-240de93ceb51')\"\n",
              "                title=\"Suggest charts\"\n",
              "                style=\"display:none;\">\n",
              "\n",
              "<svg xmlns=\"http://www.w3.org/2000/svg\" height=\"24px\"viewBox=\"0 0 24 24\"\n",
              "     width=\"24px\">\n",
              "    <g>\n",
              "        <path d=\"M19 3H5c-1.1 0-2 .9-2 2v14c0 1.1.9 2 2 2h14c1.1 0 2-.9 2-2V5c0-1.1-.9-2-2-2zM9 17H7v-7h2v7zm4 0h-2V7h2v10zm4 0h-2v-4h2v4z\"/>\n",
              "    </g>\n",
              "</svg>\n",
              "      </button>\n",
              "\n",
              "<style>\n",
              "  .colab-df-quickchart {\n",
              "      --bg-color: #E8F0FE;\n",
              "      --fill-color: #1967D2;\n",
              "      --hover-bg-color: #E2EBFA;\n",
              "      --hover-fill-color: #174EA6;\n",
              "      --disabled-fill-color: #AAA;\n",
              "      --disabled-bg-color: #DDD;\n",
              "  }\n",
              "\n",
              "  [theme=dark] .colab-df-quickchart {\n",
              "      --bg-color: #3B4455;\n",
              "      --fill-color: #D2E3FC;\n",
              "      --hover-bg-color: #434B5C;\n",
              "      --hover-fill-color: #FFFFFF;\n",
              "      --disabled-bg-color: #3B4455;\n",
              "      --disabled-fill-color: #666;\n",
              "  }\n",
              "\n",
              "  .colab-df-quickchart {\n",
              "    background-color: var(--bg-color);\n",
              "    border: none;\n",
              "    border-radius: 50%;\n",
              "    cursor: pointer;\n",
              "    display: none;\n",
              "    fill: var(--fill-color);\n",
              "    height: 32px;\n",
              "    padding: 0;\n",
              "    width: 32px;\n",
              "  }\n",
              "\n",
              "  .colab-df-quickchart:hover {\n",
              "    background-color: var(--hover-bg-color);\n",
              "    box-shadow: 0 1px 2px rgba(60, 64, 67, 0.3), 0 1px 3px 1px rgba(60, 64, 67, 0.15);\n",
              "    fill: var(--button-hover-fill-color);\n",
              "  }\n",
              "\n",
              "  .colab-df-quickchart-complete:disabled,\n",
              "  .colab-df-quickchart-complete:disabled:hover {\n",
              "    background-color: var(--disabled-bg-color);\n",
              "    fill: var(--disabled-fill-color);\n",
              "    box-shadow: none;\n",
              "  }\n",
              "\n",
              "  .colab-df-spinner {\n",
              "    border: 2px solid var(--fill-color);\n",
              "    border-color: transparent;\n",
              "    border-bottom-color: var(--fill-color);\n",
              "    animation:\n",
              "      spin 1s steps(1) infinite;\n",
              "  }\n",
              "\n",
              "  @keyframes spin {\n",
              "    0% {\n",
              "      border-color: transparent;\n",
              "      border-bottom-color: var(--fill-color);\n",
              "      border-left-color: var(--fill-color);\n",
              "    }\n",
              "    20% {\n",
              "      border-color: transparent;\n",
              "      border-left-color: var(--fill-color);\n",
              "      border-top-color: var(--fill-color);\n",
              "    }\n",
              "    30% {\n",
              "      border-color: transparent;\n",
              "      border-left-color: var(--fill-color);\n",
              "      border-top-color: var(--fill-color);\n",
              "      border-right-color: var(--fill-color);\n",
              "    }\n",
              "    40% {\n",
              "      border-color: transparent;\n",
              "      border-right-color: var(--fill-color);\n",
              "      border-top-color: var(--fill-color);\n",
              "    }\n",
              "    60% {\n",
              "      border-color: transparent;\n",
              "      border-right-color: var(--fill-color);\n",
              "    }\n",
              "    80% {\n",
              "      border-color: transparent;\n",
              "      border-right-color: var(--fill-color);\n",
              "      border-bottom-color: var(--fill-color);\n",
              "    }\n",
              "    90% {\n",
              "      border-color: transparent;\n",
              "      border-bottom-color: var(--fill-color);\n",
              "    }\n",
              "  }\n",
              "</style>\n",
              "\n",
              "      <script>\n",
              "        async function quickchart(key) {\n",
              "          const quickchartButtonEl =\n",
              "            document.querySelector('#' + key + ' button');\n",
              "          quickchartButtonEl.disabled = true;  // To prevent multiple clicks.\n",
              "          quickchartButtonEl.classList.add('colab-df-spinner');\n",
              "          try {\n",
              "            const charts = await google.colab.kernel.invokeFunction(\n",
              "                'suggestCharts', [key], {});\n",
              "          } catch (error) {\n",
              "            console.error('Error during call to suggestCharts:', error);\n",
              "          }\n",
              "          quickchartButtonEl.classList.remove('colab-df-spinner');\n",
              "          quickchartButtonEl.classList.add('colab-df-quickchart-complete');\n",
              "        }\n",
              "        (() => {\n",
              "          let quickchartButtonEl =\n",
              "            document.querySelector('#df-62fcf07e-59b6-4d9a-b77f-240de93ceb51 button');\n",
              "          quickchartButtonEl.style.display =\n",
              "            google.colab.kernel.accessAllowed ? 'block' : 'none';\n",
              "        })();\n",
              "      </script>\n",
              "    </div>\n",
              "\n",
              "    </div>\n",
              "  </div>\n"
            ],
            "application/vnd.google.colaboratory.intrinsic+json": {
              "type": "dataframe",
              "summary": "{\n  \"name\": \"pd\",\n  \"rows\": 10,\n  \"fields\": [\n    {\n      \"column\": \"row_0\",\n      \"properties\": {\n        \"dtype\": \"number\",\n        \"std\": 3,\n        \"min\": 0,\n        \"max\": 9,\n        \"num_unique_values\": 10,\n        \"samples\": [\n          8,\n          1,\n          5\n        ],\n        \"semantic_type\": \"\",\n        \"description\": \"\"\n      }\n    },\n    {\n      \"column\": 0,\n      \"properties\": {\n        \"dtype\": \"number\",\n        \"std\": 30,\n        \"min\": 0,\n        \"max\": 96,\n        \"num_unique_values\": 3,\n        \"samples\": [\n          96,\n          0,\n          1\n        ],\n        \"semantic_type\": \"\",\n        \"description\": \"\"\n      }\n    },\n    {\n      \"column\": 1,\n      \"properties\": {\n        \"dtype\": \"number\",\n        \"std\": 34,\n        \"min\": 0,\n        \"max\": 110,\n        \"num_unique_values\": 4,\n        \"samples\": [\n          110,\n          2,\n          0\n        ],\n        \"semantic_type\": \"\",\n        \"description\": \"\"\n      }\n    },\n    {\n      \"column\": 2,\n      \"properties\": {\n        \"dtype\": \"number\",\n        \"std\": 28,\n        \"min\": 0,\n        \"max\": 91,\n        \"num_unique_values\": 4,\n        \"samples\": [\n          91,\n          2,\n          1\n        ],\n        \"semantic_type\": \"\",\n        \"description\": \"\"\n      }\n    },\n    {\n      \"column\": 3,\n      \"properties\": {\n        \"dtype\": \"number\",\n        \"std\": 27,\n        \"min\": 0,\n        \"max\": 88,\n        \"num_unique_values\": 3,\n        \"samples\": [\n          0,\n          1,\n          88\n        ],\n        \"semantic_type\": \"\",\n        \"description\": \"\"\n      }\n    },\n    {\n      \"column\": 4,\n      \"properties\": {\n        \"dtype\": \"number\",\n        \"std\": 32,\n        \"min\": 0,\n        \"max\": 102,\n        \"num_unique_values\": 4,\n        \"samples\": [\n          102,\n          1,\n          0\n        ],\n        \"semantic_type\": \"\",\n        \"description\": \"\"\n      }\n    },\n    {\n      \"column\": 5,\n      \"properties\": {\n        \"dtype\": \"number\",\n        \"std\": 25,\n        \"min\": 0,\n        \"max\": 83,\n        \"num_unique_values\": 4,\n        \"samples\": [\n          1,\n          83,\n          0\n        ],\n        \"semantic_type\": \"\",\n        \"description\": \"\"\n      }\n    },\n    {\n      \"column\": 6,\n      \"properties\": {\n        \"dtype\": \"number\",\n        \"std\": 28,\n        \"min\": 0,\n        \"max\": 90,\n        \"num_unique_values\": 4,\n        \"samples\": [\n          2,\n          90,\n          1\n        ],\n        \"semantic_type\": \"\",\n        \"description\": \"\"\n      }\n    },\n    {\n      \"column\": 7,\n      \"properties\": {\n        \"dtype\": \"number\",\n        \"std\": 35,\n        \"min\": 0,\n        \"max\": 112,\n        \"num_unique_values\": 4,\n        \"samples\": [\n          2,\n          112,\n          0\n        ],\n        \"semantic_type\": \"\",\n        \"description\": \"\"\n      }\n    },\n    {\n      \"column\": 8,\n      \"properties\": {\n        \"dtype\": \"number\",\n        \"std\": 26,\n        \"min\": 0,\n        \"max\": 83,\n        \"num_unique_values\": 3,\n        \"samples\": [\n          0,\n          1,\n          83\n        ],\n        \"semantic_type\": \"\",\n        \"description\": \"\"\n      }\n    },\n    {\n      \"column\": 9,\n      \"properties\": {\n        \"dtype\": \"number\",\n        \"std\": 28,\n        \"min\": 0,\n        \"max\": 90,\n        \"num_unique_values\": 5,\n        \"samples\": [\n          0,\n          90,\n          1\n        ],\n        \"semantic_type\": \"\",\n        \"description\": \"\"\n      }\n    }\n  ]\n}"
            }
          },
          "metadata": {},
          "execution_count": 88
        }
      ]
    },
    {
      "cell_type": "code",
      "source": [
        "#Visualizando a Matriz de pesos treinados\n",
        "weights = model.state_dict()['weight']\n",
        "print('weights:', weights.shape)\n",
        "\n",
        "bias = model.state_dict()['bias']\n",
        "print('bias:   ', bias.shape)\n",
        "\n",
        "# Visualizando pesos da classe 3\n",
        "plt.imshow(weights[3, :].numpy().reshape((28,28)),cmap = 'gray')\n",
        "plt.show()"
      ],
      "metadata": {
        "colab": {
          "base_uri": "https://localhost:8080/",
          "height": 465
        },
        "id": "WajwcizcXQgx",
        "outputId": "745cce47-fc76-4291-d1ac-ad8d65ac253f"
      },
      "execution_count": 89,
      "outputs": [
        {
          "output_type": "stream",
          "name": "stdout",
          "text": [
            "weights: torch.Size([10, 784])\n",
            "bias:    torch.Size([10])\n"
          ]
        },
        {
          "output_type": "display_data",
          "data": {
            "text/plain": [
              "<Figure size 640x480 with 1 Axes>"
            ],
            "image/png": "[encoded data removed]"
          },
          "metadata": {}
        }
      ]
    },
    {
      "cell_type": "code",
      "source": [
        "# cria um grid com as imagens\n",
        "grid = torchvision.utils.make_grid(weights.view(-1, 1, 28, 28), normalize=True, pad_value=1.0, padding=1, nrow=10)\n",
        "\n",
        "plt.figure(figsize=(15, 10))\n",
        "plt.imshow(grid.numpy().transpose(1, 2, 0))\n",
        "plt.axis('off');"
      ],
      "metadata": {
        "colab": {
          "base_uri": "https://localhost:8080/",
          "height": 156
        },
        "id": "uF-VQ2nhXQd3",
        "outputId": "03118c2c-8972-40b8-9216-cd59bc0fe1d0"
      },
      "execution_count": 90,
      "outputs": [
        {
          "output_type": "display_data",
          "data": {
            "text/plain": [
              "<Figure size 1500x1000 with 1 Axes>"
            ],
            "image/png": "[encoded data removed]"
          },
          "metadata": {}
        }
      ]
    },
    {
      "cell_type": "code",
      "source": [
        "#1\n",
        "import numpy\n",
        "losses = []\n",
        "zs = []\n",
        "\n",
        "for i in range(epochs):\n",
        "    # Transforma a entrada para uma dimensão\n",
        "    inputs = Variable(x_train.view(-1, 28 * 28))\n",
        "    # Predict da rede\n",
        "    outputs = model(inputs)\n",
        "\n",
        "    # z0 a z9\n",
        "    zs.append(outputs[1].detach().numpy())\n",
        "\n",
        "    # calcula a perda\n",
        "    loss = criterion(outputs, Variable(y_train))\n",
        "\n",
        "    # zero, backpropagation, ajusta parâmetros pelo gradiente descendente\n",
        "    optimizer.zero_grad()\n",
        "    loss.backward()\n",
        "    optimizer.step()\n",
        "\n",
        "    losses.append(loss.item())\n",
        "\n",
        "    _, predicts = torch.max(outputs, 1)\n",
        "\n",
        "    y_pred = predicts.data\n",
        "    accuracy = (y_pred.numpy() == y_train.numpy()).mean()\n",
        "    print(f\"Época [{i+1}/{epochs}]: perda de {loss:.6f} | acurácia de {accuracy}\")\n",
        "\n",
        "    weights = model.state_dict()['weight']\n",
        "    print('weights:', weights.shape)\n",
        "\n",
        "    bias = model.state_dict()['bias']\n",
        "    print('bias:   ', bias.shape)\n",
        "\n",
        "\n",
        "plt.imshow(weights[4, :].numpy().reshape((28,28)),cmap = 'gray')\n",
        "plt.show()"
      ],
      "metadata": {
        "colab": {
          "base_uri": "https://localhost:8080/",
          "height": 1000
        },
        "id": "KJnVK_QIYBsG",
        "outputId": "812f607a-d353-4426-9fac-4efd444173c3"
      },
      "execution_count": 91,
      "outputs": [
        {
          "output_type": "stream",
          "name": "stdout",
          "text": [
            "Época [1/100]: perda de 0.263921 | acurácia de 0.945\n",
            "weights: torch.Size([10, 784])\n",
            "bias:    torch.Size([10])\n",
            "Época [2/100]: perda de 0.262605 | acurácia de 0.945\n",
            "weights: torch.Size([10, 784])\n",
            "bias:    torch.Size([10])\n",
            "Época [3/100]: perda de 0.261304 | acurácia de 0.945\n",
            "weights: torch.Size([10, 784])\n",
            "bias:    torch.Size([10])\n",
            "Época [4/100]: perda de 0.260018 | acurácia de 0.945\n",
            "weights: torch.Size([10, 784])\n",
            "bias:    torch.Size([10])\n",
            "Época [5/100]: perda de 0.258747 | acurácia de 0.945\n",
            "weights: torch.Size([10, 784])\n",
            "bias:    torch.Size([10])\n",
            "Época [6/100]: perda de 0.257491 | acurácia de 0.946\n",
            "weights: torch.Size([10, 784])\n",
            "bias:    torch.Size([10])\n",
            "Época [7/100]: perda de 0.256249 | acurácia de 0.946\n",
            "weights: torch.Size([10, 784])\n",
            "bias:    torch.Size([10])\n",
            "Época [8/100]: perda de 0.255020 | acurácia de 0.946\n",
            "weights: torch.Size([10, 784])\n",
            "bias:    torch.Size([10])\n",
            "Época [9/100]: perda de 0.253806 | acurácia de 0.946\n",
            "weights: torch.Size([10, 784])\n",
            "bias:    torch.Size([10])\n",
            "Época [10/100]: perda de 0.252604 | acurácia de 0.946\n",
            "weights: torch.Size([10, 784])\n",
            "bias:    torch.Size([10])\n",
            "Época [11/100]: perda de 0.251416 | acurácia de 0.946\n",
            "weights: torch.Size([10, 784])\n",
            "bias:    torch.Size([10])\n",
            "Época [12/100]: perda de 0.250241 | acurácia de 0.946\n",
            "weights: torch.Size([10, 784])\n",
            "bias:    torch.Size([10])\n",
            "Época [13/100]: perda de 0.249078 | acurácia de 0.946\n",
            "weights: torch.Size([10, 784])\n",
            "bias:    torch.Size([10])\n",
            "Época [14/100]: perda de 0.247927 | acurácia de 0.947\n",
            "weights: torch.Size([10, 784])\n",
            "bias:    torch.Size([10])\n",
            "Época [15/100]: perda de 0.246788 | acurácia de 0.948\n",
            "weights: torch.Size([10, 784])\n",
            "bias:    torch.Size([10])\n",
            "Época [16/100]: perda de 0.245661 | acurácia de 0.948\n",
            "weights: torch.Size([10, 784])\n",
            "bias:    torch.Size([10])\n",
            "Época [17/100]: perda de 0.244546 | acurácia de 0.949\n",
            "weights: torch.Size([10, 784])\n",
            "bias:    torch.Size([10])\n",
            "Época [18/100]: perda de 0.243442 | acurácia de 0.949\n",
            "weights: torch.Size([10, 784])\n",
            "bias:    torch.Size([10])\n",
            "Época [19/100]: perda de 0.242350 | acurácia de 0.95\n",
            "weights: torch.Size([10, 784])\n",
            "bias:    torch.Size([10])\n",
            "Época [20/100]: perda de 0.241268 | acurácia de 0.95\n",
            "weights: torch.Size([10, 784])\n",
            "bias:    torch.Size([10])\n",
            "Época [21/100]: perda de 0.240197 | acurácia de 0.95\n",
            "weights: torch.Size([10, 784])\n",
            "bias:    torch.Size([10])\n",
            "Época [22/100]: perda de 0.239136 | acurácia de 0.95\n",
            "weights: torch.Size([10, 784])\n",
            "bias:    torch.Size([10])\n",
            "Época [23/100]: perda de 0.238086 | acurácia de 0.951\n",
            "weights: torch.Size([10, 784])\n",
            "bias:    torch.Size([10])\n",
            "Época [24/100]: perda de 0.237046 | acurácia de 0.951\n",
            "weights: torch.Size([10, 784])\n",
            "bias:    torch.Size([10])\n",
            "Época [25/100]: perda de 0.236016 | acurácia de 0.951\n",
            "weights: torch.Size([10, 784])\n",
            "bias:    torch.Size([10])\n",
            "Época [26/100]: perda de 0.234996 | acurácia de 0.951\n",
            "weights: torch.Size([10, 784])\n",
            "bias:    torch.Size([10])\n",
            "Época [27/100]: perda de 0.233986 | acurácia de 0.952\n",
            "weights: torch.Size([10, 784])\n",
            "bias:    torch.Size([10])\n",
            "Época [28/100]: perda de 0.232985 | acurácia de 0.952\n",
            "weights: torch.Size([10, 784])\n",
            "bias:    torch.Size([10])\n",
            "Época [29/100]: perda de 0.231993 | acurácia de 0.952\n",
            "weights: torch.Size([10, 784])\n",
            "bias:    torch.Size([10])\n",
            "Época [30/100]: perda de 0.231011 | acurácia de 0.952\n",
            "weights: torch.Size([10, 784])\n",
            "bias:    torch.Size([10])\n",
            "Época [31/100]: perda de 0.230037 | acurácia de 0.953\n",
            "weights: torch.Size([10, 784])\n",
            "bias:    torch.Size([10])\n",
            "Época [32/100]: perda de 0.229073 | acurácia de 0.953\n",
            "weights: torch.Size([10, 784])\n",
            "bias:    torch.Size([10])\n",
            "Época [33/100]: perda de 0.228117 | acurácia de 0.954\n",
            "weights: torch.Size([10, 784])\n",
            "bias:    torch.Size([10])\n",
            "Época [34/100]: perda de 0.227169 | acurácia de 0.954\n",
            "weights: torch.Size([10, 784])\n",
            "bias:    torch.Size([10])\n",
            "Época [35/100]: perda de 0.226230 | acurácia de 0.954\n",
            "weights: torch.Size([10, 784])\n",
            "bias:    torch.Size([10])\n",
            "Época [36/100]: perda de 0.225300 | acurácia de 0.955\n",
            "weights: torch.Size([10, 784])\n",
            "bias:    torch.Size([10])\n",
            "Época [37/100]: perda de 0.224377 | acurácia de 0.955\n",
            "weights: torch.Size([10, 784])\n",
            "bias:    torch.Size([10])\n",
            "Época [38/100]: perda de 0.223463 | acurácia de 0.955\n",
            "weights: torch.Size([10, 784])\n",
            "bias:    torch.Size([10])\n",
            "Época [39/100]: perda de 0.222557 | acurácia de 0.955\n",
            "weights: torch.Size([10, 784])\n",
            "bias:    torch.Size([10])\n",
            "Época [40/100]: perda de 0.221658 | acurácia de 0.955\n",
            "weights: torch.Size([10, 784])\n",
            "bias:    torch.Size([10])\n",
            "Época [41/100]: perda de 0.220767 | acurácia de 0.955\n",
            "weights: torch.Size([10, 784])\n",
            "bias:    torch.Size([10])\n",
            "Época [42/100]: perda de 0.219884 | acurácia de 0.955\n",
            "weights: torch.Size([10, 784])\n",
            "bias:    torch.Size([10])\n",
            "Época [43/100]: perda de 0.219008 | acurácia de 0.955\n",
            "weights: torch.Size([10, 784])\n",
            "bias:    torch.Size([10])\n",
            "Época [44/100]: perda de 0.218139 | acurácia de 0.955\n",
            "weights: torch.Size([10, 784])\n",
            "bias:    torch.Size([10])\n",
            "Época [45/100]: perda de 0.217278 | acurácia de 0.955\n",
            "weights: torch.Size([10, 784])\n",
            "bias:    torch.Size([10])\n",
            "Época [46/100]: perda de 0.216423 | acurácia de 0.955\n",
            "weights: torch.Size([10, 784])\n",
            "bias:    torch.Size([10])\n",
            "Época [47/100]: perda de 0.215576 | acurácia de 0.955\n",
            "weights: torch.Size([10, 784])\n",
            "bias:    torch.Size([10])\n",
            "Época [48/100]: perda de 0.214736 | acurácia de 0.957\n",
            "weights: torch.Size([10, 784])\n",
            "bias:    torch.Size([10])\n",
            "Época [49/100]: perda de 0.213902 | acurácia de 0.957\n",
            "weights: torch.Size([10, 784])\n",
            "bias:    torch.Size([10])\n",
            "Época [50/100]: perda de 0.213075 | acurácia de 0.958\n",
            "weights: torch.Size([10, 784])\n",
            "bias:    torch.Size([10])\n",
            "Época [51/100]: perda de 0.212255 | acurácia de 0.958\n",
            "weights: torch.Size([10, 784])\n",
            "bias:    torch.Size([10])\n",
            "Época [52/100]: perda de 0.211441 | acurácia de 0.958\n",
            "weights: torch.Size([10, 784])\n",
            "bias:    torch.Size([10])\n",
            "Época [53/100]: perda de 0.210634 | acurácia de 0.958\n",
            "weights: torch.Size([10, 784])\n",
            "bias:    torch.Size([10])\n",
            "Época [54/100]: perda de 0.209833 | acurácia de 0.958\n",
            "weights: torch.Size([10, 784])\n",
            "bias:    torch.Size([10])\n",
            "Época [55/100]: perda de 0.209039 | acurácia de 0.958\n",
            "weights: torch.Size([10, 784])\n",
            "bias:    torch.Size([10])\n",
            "Época [56/100]: perda de 0.208250 | acurácia de 0.959\n",
            "weights: torch.Size([10, 784])\n",
            "bias:    torch.Size([10])\n",
            "Época [57/100]: perda de 0.207468 | acurácia de 0.959\n",
            "weights: torch.Size([10, 784])\n",
            "bias:    torch.Size([10])\n",
            "Época [58/100]: perda de 0.206691 | acurácia de 0.959\n",
            "weights: torch.Size([10, 784])\n",
            "bias:    torch.Size([10])\n",
            "Época [59/100]: perda de 0.205921 | acurácia de 0.959\n",
            "weights: torch.Size([10, 784])\n",
            "bias:    torch.Size([10])\n",
            "Época [60/100]: perda de 0.205157 | acurácia de 0.959\n",
            "weights: torch.Size([10, 784])\n",
            "bias:    torch.Size([10])\n",
            "Época [61/100]: perda de 0.204398 | acurácia de 0.959\n",
            "weights: torch.Size([10, 784])\n",
            "bias:    torch.Size([10])\n",
            "Época [62/100]: perda de 0.203645 | acurácia de 0.96\n",
            "weights: torch.Size([10, 784])\n",
            "bias:    torch.Size([10])\n",
            "Época [63/100]: perda de 0.202897 | acurácia de 0.96\n",
            "weights: torch.Size([10, 784])\n",
            "bias:    torch.Size([10])\n",
            "Época [64/100]: perda de 0.202155 | acurácia de 0.96\n",
            "weights: torch.Size([10, 784])\n",
            "bias:    torch.Size([10])\n",
            "Época [65/100]: perda de 0.201419 | acurácia de 0.96\n",
            "weights: torch.Size([10, 784])\n",
            "bias:    torch.Size([10])\n",
            "Época [66/100]: perda de 0.200688 | acurácia de 0.96\n",
            "weights: torch.Size([10, 784])\n",
            "bias:    torch.Size([10])\n",
            "Época [67/100]: perda de 0.199962 | acurácia de 0.96\n",
            "weights: torch.Size([10, 784])\n",
            "bias:    torch.Size([10])\n",
            "Época [68/100]: perda de 0.199242 | acurácia de 0.96\n",
            "weights: torch.Size([10, 784])\n",
            "bias:    torch.Size([10])\n",
            "Época [69/100]: perda de 0.198527 | acurácia de 0.96\n",
            "weights: torch.Size([10, 784])\n",
            "bias:    torch.Size([10])\n",
            "Época [70/100]: perda de 0.197817 | acurácia de 0.96\n",
            "weights: torch.Size([10, 784])\n",
            "bias:    torch.Size([10])\n",
            "Época [71/100]: perda de 0.197112 | acurácia de 0.96\n",
            "weights: torch.Size([10, 784])\n",
            "bias:    torch.Size([10])\n",
            "Época [72/100]: perda de 0.196412 | acurácia de 0.961\n",
            "weights: torch.Size([10, 784])\n",
            "bias:    torch.Size([10])\n",
            "Época [73/100]: perda de 0.195717 | acurácia de 0.962\n",
            "weights: torch.Size([10, 784])\n",
            "bias:    torch.Size([10])\n",
            "Época [74/100]: perda de 0.195027 | acurácia de 0.963\n",
            "weights: torch.Size([10, 784])\n",
            "bias:    torch.Size([10])\n",
            "Época [75/100]: perda de 0.194342 | acurácia de 0.963\n",
            "weights: torch.Size([10, 784])\n",
            "bias:    torch.Size([10])\n",
            "Época [76/100]: perda de 0.193661 | acurácia de 0.963\n",
            "weights: torch.Size([10, 784])\n",
            "bias:    torch.Size([10])\n",
            "Época [77/100]: perda de 0.192985 | acurácia de 0.963\n",
            "weights: torch.Size([10, 784])\n",
            "bias:    torch.Size([10])\n",
            "Época [78/100]: perda de 0.192314 | acurácia de 0.964\n",
            "weights: torch.Size([10, 784])\n",
            "bias:    torch.Size([10])\n",
            "Época [79/100]: perda de 0.191648 | acurácia de 0.964\n",
            "weights: torch.Size([10, 784])\n",
            "bias:    torch.Size([10])\n",
            "Época [80/100]: perda de 0.190986 | acurácia de 0.964\n",
            "weights: torch.Size([10, 784])\n",
            "bias:    torch.Size([10])\n",
            "Época [81/100]: perda de 0.190329 | acurácia de 0.965\n",
            "weights: torch.Size([10, 784])\n",
            "bias:    torch.Size([10])\n",
            "Época [82/100]: perda de 0.189676 | acurácia de 0.965\n",
            "weights: torch.Size([10, 784])\n",
            "bias:    torch.Size([10])\n",
            "Época [83/100]: perda de 0.189028 | acurácia de 0.965\n",
            "weights: torch.Size([10, 784])\n",
            "bias:    torch.Size([10])\n",
            "Época [84/100]: perda de 0.188383 | acurácia de 0.965\n",
            "weights: torch.Size([10, 784])\n",
            "bias:    torch.Size([10])\n",
            "Época [85/100]: perda de 0.187744 | acurácia de 0.965\n",
            "weights: torch.Size([10, 784])\n",
            "bias:    torch.Size([10])\n",
            "Época [86/100]: perda de 0.187108 | acurácia de 0.965\n",
            "weights: torch.Size([10, 784])\n",
            "bias:    torch.Size([10])\n",
            "Época [87/100]: perda de 0.186477 | acurácia de 0.965\n",
            "weights: torch.Size([10, 784])\n",
            "bias:    torch.Size([10])\n",
            "Época [88/100]: perda de 0.185850 | acurácia de 0.965\n",
            "weights: torch.Size([10, 784])\n",
            "bias:    torch.Size([10])\n",
            "Época [89/100]: perda de 0.185227 | acurácia de 0.965\n",
            "weights: torch.Size([10, 784])\n",
            "bias:    torch.Size([10])\n",
            "Época [90/100]: perda de 0.184608 | acurácia de 0.965\n",
            "weights: torch.Size([10, 784])\n",
            "bias:    torch.Size([10])\n",
            "Época [91/100]: perda de 0.183993 | acurácia de 0.965\n",
            "weights: torch.Size([10, 784])\n",
            "bias:    torch.Size([10])\n",
            "Época [92/100]: perda de 0.183382 | acurácia de 0.966\n",
            "weights: torch.Size([10, 784])\n",
            "bias:    torch.Size([10])\n",
            "Época [93/100]: perda de 0.182775 | acurácia de 0.966\n",
            "weights: torch.Size([10, 784])\n",
            "bias:    torch.Size([10])\n",
            "Época [94/100]: perda de 0.182172 | acurácia de 0.966\n",
            "weights: torch.Size([10, 784])\n",
            "bias:    torch.Size([10])\n",
            "Época [95/100]: perda de 0.181572 | acurácia de 0.967\n",
            "weights: torch.Size([10, 784])\n",
            "bias:    torch.Size([10])\n",
            "Época [96/100]: perda de 0.180977 | acurácia de 0.967\n",
            "weights: torch.Size([10, 784])\n",
            "bias:    torch.Size([10])\n",
            "Época [97/100]: perda de 0.180385 | acurácia de 0.967\n",
            "weights: torch.Size([10, 784])\n",
            "bias:    torch.Size([10])\n",
            "Época [98/100]: perda de 0.179797 | acurácia de 0.967\n",
            "weights: torch.Size([10, 784])\n",
            "bias:    torch.Size([10])\n",
            "Época [99/100]: perda de 0.179213 | acurácia de 0.967\n",
            "weights: torch.Size([10, 784])\n",
            "bias:    torch.Size([10])\n",
            "Época [100/100]: perda de 0.178632 | acurácia de 0.967\n",
            "weights: torch.Size([10, 784])\n",
            "bias:    torch.Size([10])\n"
          ]
        },
        {
          "output_type": "display_data",
          "data": {
            "text/plain": [
              "<Figure size 640x480 with 1 Axes>"
            ],
            "image/png": "[encoded data removed]"
          },
          "metadata": {}
        }
      ]
    },
    {
      "cell_type": "code",
      "source": [],
      "metadata": {
        "id": "wBO2yYZtYBqG"
      },
      "execution_count": 91,
      "outputs": []
    },
    {
      "cell_type": "code",
      "source": [],
      "metadata": {
        "id": "qW9GdSQuYBnP"
      },
      "execution_count": 91,
      "outputs": []
    },
    {
      "cell_type": "code",
      "source": [],
      "metadata": {
        "id": "1uvPDWmfXQap"
      },
      "execution_count": 91,
      "outputs": []
    },
    {
      "cell_type": "code",
      "source": [],
      "metadata": {
        "id": "ZrlSuZsAXQXB"
      },
      "execution_count": 91,
      "outputs": []
    }
  ]
}